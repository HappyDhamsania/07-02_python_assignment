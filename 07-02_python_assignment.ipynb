{
 "cells": [
  {
   "cell_type": "markdown",
   "id": "b9344ced-8865-4360-8e27-b2c683c2cb49",
   "metadata": {},
   "source": [
    "Q1. You are writing code for a company. The requirement of the company is that you create a python\n",
    "function that will check whether the password entered by the user is correct or not. The function should\n",
    "take the password as input and return the string “Valid Password” if the entered password follows the\n",
    "below-given password guidelines else it should return “Invalid Password”.\n",
    "\n",
    "Note: \n",
    "1. The Password should contain at least two uppercase letters and at least two lowercase letters.\n",
    "2. The Password should contain at least a number and three special characters.\n",
    "3. The length of the password should be 10 characters long."
   ]
  },
  {
   "cell_type": "code",
   "execution_count": 2,
   "id": "a4bdfa0b-1eaa-4ffd-9409-d7aa3f6b9d8c",
   "metadata": {},
   "outputs": [
    {
     "name": "stdin",
     "output_type": "stream",
     "text": [
      "enter your password SudhKU@#$*123456\n"
     ]
    },
    {
     "name": "stdout",
     "output_type": "stream",
     "text": [
      "Valid Password\n"
     ]
    }
   ],
   "source": [
    "chrs=\"\"\" \n",
    "!\"#$%&'()*+,-./;:<>=?@[]^_{}-`~\n",
    "\"\"\"\n",
    "def check(pwd):\n",
    "    if len(pwd)>=10:\n",
    "        up,low,num,spch=0,0,0,0\n",
    "        for i in pwd:\n",
    "            if i.isupper():\n",
    "                up+=1\n",
    "            elif i.islower():\n",
    "                low+=1\n",
    "            elif i.isnumeric():\n",
    "                num+=1\n",
    "            elif i in chrs:\n",
    "                spch+=1\n",
    "                \n",
    "        if up>=2 and low>=2 and num>=1 and spch>=3:\n",
    "            print('Valid Password')\n",
    "        else:\n",
    "            print('Invalid Password')\n",
    "    else:\n",
    "        print('Invalid Password')\n",
    "        \n",
    "pwd= input(\"enter your password\")\n",
    "check(pwd)"
   ]
  },
  {
   "cell_type": "markdown",
   "id": "25cc031b-5ff5-45bb-a725-b63fc4ecff25",
   "metadata": {},
   "source": [
    "Q2. Solve the below-given questions using at least one of the following:\n",
    "1. Lambda function\n",
    "2. Filter function\n",
    "3. Map function\n",
    "4. List Comprehension"
   ]
  },
  {
   "cell_type": "code",
   "execution_count": 8,
   "id": "5e12bc05-9330-4c79-b99c-efbc47d7eb24",
   "metadata": {},
   "outputs": [
    {
     "name": "stdin",
     "output_type": "stream",
     "text": [
      "enter a letter r\n"
     ]
    },
    {
     "data": {
      "text/plain": [
       "True"
      ]
     },
     "execution_count": 8,
     "metadata": {},
     "output_type": "execute_result"
    }
   ],
   "source": [
    "#Check if the string starts with a particular letter\n",
    "\n",
    "s='Raja_ram_mohan'\n",
    "l=input('enter a letter')\n",
    "\n",
    "t = lambda a,b: True if a[0]==b else False\n",
    "t(s.lower(),l.lower())"
   ]
  },
  {
   "cell_type": "code",
   "execution_count": 11,
   "id": "1916c8fa-7627-409a-8fa4-0728a1895e5e",
   "metadata": {},
   "outputs": [
    {
     "data": {
      "text/plain": [
       "True"
      ]
     },
     "execution_count": 11,
     "metadata": {},
     "output_type": "execute_result"
    }
   ],
   "source": [
    "#Check if the string is numeric\n",
    "\n",
    "a=\"746\"\n",
    "\n",
    "b=lambda i:i.isnumeric()\n",
    "b(a)"
   ]
  },
  {
   "cell_type": "code",
   "execution_count": 16,
   "id": "3a2d4161-d403-4efb-a38f-7e904ebdd2bb",
   "metadata": {},
   "outputs": [
    {
     "data": {
      "text/plain": [
       "[('grapes', 1000), ('mango', 99), ('orange', 80)]"
      ]
     },
     "execution_count": 16,
     "metadata": {},
     "output_type": "execute_result"
    }
   ],
   "source": [
    "#Sort a list of tuples having fruit names and their quantity. [(\"mango\",99),(\"orange\",80), (\"grapes\", 1000)]\n",
    "\n",
    "a=[(\"mango\",99),(\"orange\",80), (\"grapes\", 1000)]\n",
    "sorted(a,key=lambda i: (i[0],i[1]))"
   ]
  },
  {
   "cell_type": "code",
   "execution_count": 21,
   "id": "10b66be9-6c96-4bb6-908f-00e4ef0e958b",
   "metadata": {},
   "outputs": [
    {
     "data": {
      "text/plain": [
       "[1, 4, 9, 16, 25, 36, 49, 64, 81, 100]"
      ]
     },
     "execution_count": 21,
     "metadata": {},
     "output_type": "execute_result"
    }
   ],
   "source": [
    "#Find the squares of numbers from 1 to 10\n",
    "\n",
    "l=[i for i in range(1,11)]\n",
    "x=list(map(lambda i:i*i,l))\n",
    "x"
   ]
  },
  {
   "cell_type": "code",
   "execution_count": 3,
   "id": "055c8d47-9478-4c6e-a175-d1d65fdb406d",
   "metadata": {},
   "outputs": [
    {
     "data": {
      "text/plain": [
       "[1.0,\n",
       " 1.2599210498948732,\n",
       " 1.4422495703074083,\n",
       " 1.5874010519681994,\n",
       " 1.7099759466766968,\n",
       " 1.8171205928321397,\n",
       " 1.912931182772389,\n",
       " 2.0,\n",
       " 2.080083823051904,\n",
       " 2.154434690031884]"
      ]
     },
     "execution_count": 3,
     "metadata": {},
     "output_type": "execute_result"
    }
   ],
   "source": [
    "#Find the cube root of numbers from 1 to 10\n",
    "\n",
    "def cube_root(a):\n",
    "    b=pow(a,1/3)\n",
    "    return b\n",
    "l=[i for i in range(1,11)]\n",
    "\n",
    "cbrt=list(map(cube_root,l))\n",
    "cbrt"
   ]
  },
  {
   "cell_type": "code",
   "execution_count": 5,
   "id": "8a4dbd20-319e-4152-9b7d-204fbf018d59",
   "metadata": {},
   "outputs": [
    {
     "name": "stdin",
     "output_type": "stream",
     "text": [
      "enter a number 66\n"
     ]
    },
    {
     "data": {
      "text/plain": [
       "'Even'"
      ]
     },
     "execution_count": 5,
     "metadata": {},
     "output_type": "execute_result"
    }
   ],
   "source": [
    "#Check if a given number is even\n",
    "\n",
    "num=int(input('enter a number'))\n",
    "r = lambda i:'Even' if i%2==0 else 'Not Even'\n",
    "r(num)"
   ]
  },
  {
   "cell_type": "code",
   "execution_count": 6,
   "id": "3a44c20c-b1f3-4fd3-8744-083033c4f1bd",
   "metadata": {},
   "outputs": [
    {
     "name": "stdout",
     "output_type": "stream",
     "text": [
      "[1, 3, 5, 7, 9]\n"
     ]
    }
   ],
   "source": [
    "#Filter odd numbers from the given list.[1,2,3,4,5,6,7,8,9,10]\n",
    "\n",
    "a=[1,2,3,4,5,6,7,8,9,10]\n",
    "odd=list(filter(lambda i: i%2!=0,a))\n",
    "print(odd)"
   ]
  },
  {
   "cell_type": "code",
   "execution_count": 10,
   "id": "89df3ebe-bba2-4a5d-803b-905392e96400",
   "metadata": {},
   "outputs": [
    {
     "name": "stdout",
     "output_type": "stream",
     "text": [
      "[0, 1, 2, 3, 4, 5, 6]\n",
      "[-5, -4, -3, -2, -1]\n"
     ]
    }
   ],
   "source": [
    "#Sort a list of integers into positive and negative integers lists.[1,2,3,4,5,6,-1,-2,-3,-4,-5,0]\n",
    "\n",
    "a=[1,2,3,4,5,6,-1,-2,-3,-4,-5,0]\n",
    "p=[]\n",
    "n=[]\n",
    "for i in a:\n",
    "    if i>=0:\n",
    "        p.append(i) \n",
    "    else:\n",
    "        n.append(i)\n",
    "print(sorted(p))\n",
    "print(sorted(n))"
   ]
  },
  {
   "cell_type": "code",
   "execution_count": null,
   "id": "af7c574f-5a3a-4153-a21d-64c21d4826dd",
   "metadata": {},
   "outputs": [],
   "source": []
  }
 ],
 "metadata": {
  "kernelspec": {
   "display_name": "Python 3 (ipykernel)",
   "language": "python",
   "name": "python3"
  },
  "language_info": {
   "codemirror_mode": {
    "name": "ipython",
    "version": 3
   },
   "file_extension": ".py",
   "mimetype": "text/x-python",
   "name": "python",
   "nbconvert_exporter": "python",
   "pygments_lexer": "ipython3",
   "version": "3.10.8"
  }
 },
 "nbformat": 4,
 "nbformat_minor": 5
}
